{
  "nbformat": 4,
  "nbformat_minor": 0,
  "metadata": {
    "colab": {
      "name": "Piano transcription inference",
      "provenance": [],
      "include_colab_link": true
    },
    "kernelspec": {
      "name": "python3",
      "display_name": "Python 3"
    },
    "accelerator": "GPU"
  },
  "cells": [
    {
      "cell_type": "markdown",
      "metadata": {
        "id": "view-in-github",
        "colab_type": "text"
      },
      "source": [
        "<a href=\"https://colab.research.google.com/github/tombalu23/piano-audio-to-midi/blob/main/resources/inference.ipynb\" target=\"_parent\"><img src=\"https://colab.research.google.com/assets/colab-badge.svg\" alt=\"Open In Colab\"/></a>"
      ]
    },
    {
      "cell_type": "markdown",
      "metadata": {
        "id": "k43ASej1dc5N"
      },
      "source": [
        "# Install piano_transcription_inference"
      ]
    },
    {
      "cell_type": "code",
      "source": [
        "#Upload audio files here\n",
        "!mkdir audio_files"
      ],
      "metadata": {
        "id": "CDIlVvGGtOdo"
      },
      "execution_count": null,
      "outputs": []
    },
    {
      "cell_type": "code",
      "metadata": {
        "id": "wxRVwNOldKpc"
      },
      "source": [
        "!apt install ffmpeg wget"
      ],
      "execution_count": null,
      "outputs": []
    },
    {
      "cell_type": "code",
      "source": [
        "pip install librosa==0.9.2"
      ],
      "metadata": {
        "id": "iI6afaSgM02x"
      },
      "execution_count": null,
      "outputs": []
    },
    {
      "cell_type": "code",
      "metadata": {
        "id": "mXoOV0fOdOFa"
      },
      "source": [
        "pip install piano_transcription_inference"
      ],
      "execution_count": null,
      "outputs": []
    },
    {
      "cell_type": "code",
      "metadata": {
        "id": "5kw5naQPleBr"
      },
      "source": [
        "from IPython.display import Audio"
      ],
      "execution_count": null,
      "outputs": []
    },
    {
      "source": [
        "import os\n",
        "from piano_transcription_inference import PianoTranscription, sample_rate, load_audio\n",
        "\n",
        "def transcribe_all(input_folder, output_folder, delimiter='|'):\n",
        "    \"\"\"\n",
        "    Transcribes all audio files in a folder to MIDI files.\n",
        "\n",
        "    Args:\n",
        "        input_folder: Path to the folder containing audio files.\n",
        "        output_folder: Path to the folder where MIDI files will be saved.\n",
        "        delimiter: Delimiter used to split the filename to get the base name.\n",
        "    \"\"\"\n",
        "    # Create output folder if it doesn't exist\n",
        "    os.makedirs(output_folder, exist_ok=True)\n",
        "\n",
        "    # Transcriptor\n",
        "    transcriptor = PianoTranscription(device='cuda', checkpoint_path=None)\n",
        "\n",
        "    # Iterate through audio files in the input folder\n",
        "    for filename in os.listdir(input_folder):\n",
        "        if filename.endswith(('.wav', '.mp3', '.ogg')):  # Adjust file extensions as needed\n",
        "            audio_path = os.path.join(input_folder, filename)\n",
        "\n",
        "            # Extract base name from filename\n",
        "            base_name = filename.split(delimiter)[0]\n",
        "            output_midi_path = os.path.join(output_folder, f\"{base_name}.mid\")\n",
        "\n",
        "            # Load audio\n",
        "            audio, _ = load_audio(audio_path, sr=sample_rate, mono=True)\n",
        "\n",
        "            # Transcribe and save MIDI\n",
        "            transcriptor.transcribe(audio, output_midi_path)\n",
        "            print(f\"Transcribed: {filename} -> {output_midi_path}\")\n",
        "\n",
        "# Example usage:\n",
        "input_folder = 'audio_files'  # Replace with your input folder path\n",
        "output_folder = 'midi_files'  # Replace with your output folder path\n",
        "transcribe_all(input_folder, output_folder)"
      ],
      "cell_type": "code",
      "metadata": {
        "id": "MFhW0Nqxl8fj"
      },
      "execution_count": null,
      "outputs": []
    }
  ]
}